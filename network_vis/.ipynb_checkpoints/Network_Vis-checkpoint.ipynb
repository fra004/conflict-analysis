{
 "cells": [
  {
   "cell_type": "code",
   "execution_count": 2,
   "metadata": {
    "colab": {
     "base_uri": "https://localhost:8080/"
    },
    "id": "QQNPuD0cRK39",
    "outputId": "0d3998b0-d09e-4d11-b42e-486a51cbcad8"
   },
   "outputs": [
    {
     "name": "stdout",
     "output_type": "stream",
     "text": [
      "Requirement already satisfied: pyvis in /Users/fra/H24/transformation/Uppsala/Code/Demo/venv/lib/python3.11/site-packages (0.3.2)\r\n",
      "Requirement already satisfied: ipython>=5.3.0 in /Users/fra/H24/transformation/Uppsala/Code/Demo/venv/lib/python3.11/site-packages (from pyvis) (8.28.0)\r\n",
      "Requirement already satisfied: jinja2>=2.9.6 in /Users/fra/H24/transformation/Uppsala/Code/Demo/venv/lib/python3.11/site-packages (from pyvis) (3.1.4)\r\n",
      "Requirement already satisfied: jsonpickle>=1.4.1 in /Users/fra/H24/transformation/Uppsala/Code/Demo/venv/lib/python3.11/site-packages (from pyvis) (3.3.0)\r\n",
      "Requirement already satisfied: networkx>=1.11 in /Users/fra/H24/transformation/Uppsala/Code/Demo/venv/lib/python3.11/site-packages (from pyvis) (3.3)\r\n",
      "Requirement already satisfied: decorator in /Users/fra/H24/transformation/Uppsala/Code/Demo/venv/lib/python3.11/site-packages (from ipython>=5.3.0->pyvis) (5.1.1)\r\n",
      "Requirement already satisfied: jedi>=0.16 in /Users/fra/H24/transformation/Uppsala/Code/Demo/venv/lib/python3.11/site-packages (from ipython>=5.3.0->pyvis) (0.19.1)\r\n",
      "Requirement already satisfied: matplotlib-inline in /Users/fra/H24/transformation/Uppsala/Code/Demo/venv/lib/python3.11/site-packages (from ipython>=5.3.0->pyvis) (0.1.7)\r\n",
      "Requirement already satisfied: prompt-toolkit<3.1.0,>=3.0.41 in /Users/fra/H24/transformation/Uppsala/Code/Demo/venv/lib/python3.11/site-packages (from ipython>=5.3.0->pyvis) (3.0.48)\r\n",
      "Requirement already satisfied: pygments>=2.4.0 in /Users/fra/H24/transformation/Uppsala/Code/Demo/venv/lib/python3.11/site-packages (from ipython>=5.3.0->pyvis) (2.18.0)\r\n",
      "Requirement already satisfied: stack-data in /Users/fra/H24/transformation/Uppsala/Code/Demo/venv/lib/python3.11/site-packages (from ipython>=5.3.0->pyvis) (0.6.3)\r\n",
      "Requirement already satisfied: traitlets>=5.13.0 in /Users/fra/H24/transformation/Uppsala/Code/Demo/venv/lib/python3.11/site-packages (from ipython>=5.3.0->pyvis) (5.14.3)\r\n",
      "Requirement already satisfied: typing-extensions>=4.6 in /Users/fra/H24/transformation/Uppsala/Code/Demo/venv/lib/python3.11/site-packages (from ipython>=5.3.0->pyvis) (4.12.2)\r\n",
      "Requirement already satisfied: pexpect>4.3 in /Users/fra/H24/transformation/Uppsala/Code/Demo/venv/lib/python3.11/site-packages (from ipython>=5.3.0->pyvis) (4.9.0)\r\n",
      "Requirement already satisfied: MarkupSafe>=2.0 in /Users/fra/H24/transformation/Uppsala/Code/Demo/venv/lib/python3.11/site-packages (from jinja2>=2.9.6->pyvis) (2.1.5)\r\n",
      "Requirement already satisfied: parso<0.9.0,>=0.8.3 in /Users/fra/H24/transformation/Uppsala/Code/Demo/venv/lib/python3.11/site-packages (from jedi>=0.16->ipython>=5.3.0->pyvis) (0.8.4)\r\n",
      "Requirement already satisfied: ptyprocess>=0.5 in /Users/fra/H24/transformation/Uppsala/Code/Demo/venv/lib/python3.11/site-packages (from pexpect>4.3->ipython>=5.3.0->pyvis) (0.7.0)\r\n",
      "Requirement already satisfied: wcwidth in /Users/fra/H24/transformation/Uppsala/Code/Demo/venv/lib/python3.11/site-packages (from prompt-toolkit<3.1.0,>=3.0.41->ipython>=5.3.0->pyvis) (0.2.13)\r\n",
      "Requirement already satisfied: executing>=1.2.0 in /Users/fra/H24/transformation/Uppsala/Code/Demo/venv/lib/python3.11/site-packages (from stack-data->ipython>=5.3.0->pyvis) (2.1.0)\r\n",
      "Requirement already satisfied: asttokens>=2.1.0 in /Users/fra/H24/transformation/Uppsala/Code/Demo/venv/lib/python3.11/site-packages (from stack-data->ipython>=5.3.0->pyvis) (2.4.1)\r\n",
      "Requirement already satisfied: pure-eval in /Users/fra/H24/transformation/Uppsala/Code/Demo/venv/lib/python3.11/site-packages (from stack-data->ipython>=5.3.0->pyvis) (0.2.3)\r\n",
      "Requirement already satisfied: six>=1.12.0 in /Users/fra/H24/transformation/Uppsala/Code/Demo/venv/lib/python3.11/site-packages (from asttokens>=2.1.0->stack-data->ipython>=5.3.0->pyvis) (1.16.0)\r\n"
     ]
    }
   ],
   "source": [
    "!pip install pyvis"
   ]
  },
  {
   "cell_type": "code",
   "execution_count": 3,
   "metadata": {
    "id": "U2fpmr1oRIyN"
   },
   "outputs": [
    {
     "ename": "ModuleNotFoundError",
     "evalue": "No module named 'pyvis'",
     "output_type": "error",
     "traceback": [
      "\u001b[0;31m---------------------------------------------------------------------------\u001b[0m",
      "\u001b[0;31mModuleNotFoundError\u001b[0m                       Traceback (most recent call last)",
      "Cell \u001b[0;32mIn[3], line 5\u001b[0m\n\u001b[1;32m      3\u001b[0m \u001b[38;5;28;01mimport\u001b[39;00m \u001b[38;5;21;01mpandas\u001b[39;00m \u001b[38;5;28;01mas\u001b[39;00m \u001b[38;5;21;01mpd\u001b[39;00m\n\u001b[1;32m      4\u001b[0m \u001b[38;5;28;01mimport\u001b[39;00m \u001b[38;5;21;01mnetworkx\u001b[39;00m \u001b[38;5;28;01mas\u001b[39;00m \u001b[38;5;21;01mnx\u001b[39;00m\n\u001b[0;32m----> 5\u001b[0m \u001b[38;5;28;01mfrom\u001b[39;00m \u001b[38;5;21;01mpyvis\u001b[39;00m\u001b[38;5;21;01m.\u001b[39;00m\u001b[38;5;21;01mnetwork\u001b[39;00m \u001b[38;5;28;01mimport\u001b[39;00m Network\n\u001b[1;32m      9\u001b[0m \u001b[38;5;28;01mdef\u001b[39;00m \u001b[38;5;21mload_data\u001b[39m():\n\u001b[1;32m     10\u001b[0m         df \u001b[38;5;241m=\u001b[39m pd\u001b[38;5;241m.\u001b[39mread_excel(\u001b[38;5;124m\"\u001b[39m\u001b[38;5;124mucdp-actor-241.xlsx\u001b[39m\u001b[38;5;124m\"\u001b[39m)\n",
      "\u001b[0;31mModuleNotFoundError\u001b[0m: No module named 'pyvis'"
     ]
    }
   ],
   "source": [
    "import pandas as pd\n",
    "import numpy as np\n",
    "import pandas as pd\n",
    "import networkx as nx\n",
    "from pyvis.network import Network\n",
    "\n",
    "\n",
    "\n",
    "def load_data():\n",
    "        df = pd.read_excel(\"ucdp-actor-241.xlsx\")\n",
    "        df['ConflictId'] = df['ConflictId'].apply(lambda x: x.split(', ') if pd.notna(x) else [])\n",
    "        df_expanded = df.explode('ConflictId')\n",
    "        df_expanded['ConflictId'] = pd.to_numeric(df_expanded['ConflictId'], errors='coerce').astype('Int64')\n",
    "\n",
    "\n",
    "        df2 = pd.read_excel(\"UcdpPrioConflict_v24_1.xlsx\")\n",
    "\n",
    "\n",
    "        df_expanded['ConflictName'] = np.nan\n",
    "        df_expanded['type_of_conflict'] = np.nan\n",
    "\n",
    "        for index, row in df_expanded.iterrows():\n",
    "            conflict_id = row['ConflictId']\n",
    "\n",
    "            if pd.notna(conflict_id):\n",
    "\n",
    "                matching_row = df2[df2['conflict_id'] == conflict_id]\n",
    "\n",
    "\n",
    "                if not matching_row.empty:\n",
    "                    conflict_name = matching_row['location'].values[0]\n",
    "                    conflict_type = matching_row['type_of_conflict'].values[0]\n",
    "\n",
    "                    df_expanded.at[index, 'ConflictName'] = conflict_name\n",
    "                    df_expanded.at[index, 'type_of_conflict'] = conflict_type\n",
    "\n",
    "        return df_expanded\n",
    "\n",
    "\n",
    "\n",
    "def network_visualization(df_expanded):\n",
    "\n",
    "\n",
    "        G = nx.Graph()\n",
    "        conflict_color_mapping = {\n",
    "            1.0: 'red',\n",
    "            2.0: 'blue',\n",
    "            3.0: 'orange',\n",
    "            4.0: 'purple'\n",
    "        }\n",
    "\n",
    "\n",
    "        for index, row in df_expanded.iterrows():\n",
    "            actor_id = row['ActorId']\n",
    "            actor_name = row['NameData']\n",
    "            conflict_id = row['ConflictId']\n",
    "            conflict_name = row['ConflictName']\n",
    "            type_of_conflict = row['type_of_conflict']\n",
    "\n",
    "\n",
    "            G.add_node(actor_id, label=actor_name, title=actor_name, color='green')\n",
    "\n",
    "\n",
    "            if pd.notna(conflict_id):\n",
    "                conflict_color = conflict_color_mapping.get(type_of_conflict, 'red')\n",
    "                G.add_node(conflict_id, label=f'ID:{conflict_id},Location:{conflict_name}', title=conflict_name, color=conflict_color)\n",
    "\n",
    "\n",
    "                G.add_edge(actor_id, conflict_id)\n",
    "\n",
    "\n",
    "        net = Network(notebook=True, cdn_resources='in_line')\n",
    "\n",
    "        for node in G.nodes(data=True):\n",
    "            net.add_node(node[0], label=node[1]['label'], title=node[1]['title'], color=node[1]['color'])\n",
    "\n",
    "        for source, target in G.edges():\n",
    "\n",
    "            if G.nodes[source]['color'] != G.nodes[target]['color']:\n",
    "                net.add_edge(source, target)\n",
    "\n",
    "\n",
    "        net.force_atlas_2based()\n",
    "\n",
    "        output_file = \"actor_conflict_network.html\"\n",
    "        net.save_graph(output_file)\n",
    "\n",
    "\n",
    "        legend_html = \"\"\"\n",
    "        <div style='position: absolute; top: 10px; left: 10px; background-color: white; border: 1px solid black; padding: 10px;'>\n",
    "            <h4>Legend</h4>\n",
    "            <div><span style='color: green;'>●</span> Actor</div>\n",
    "            <div><span style='color: red;'>●</span> extrasystemic Conflict</div>\n",
    "            <div><span style='color: blue;'>●</span> interstate Conflict</div>\n",
    "            <div><span style='color: orange;'>●</span> intrastate Conflict</div>\n",
    "            <div><span style='color: purple;'>●</span> internationalized intrastate Conflict</div>\n",
    "        </div>\n",
    "        \"\"\"\n",
    "\n",
    "\n",
    "        with open(output_file, \"r\") as file:\n",
    "            content = file.read()\n",
    "\n",
    "        content = content.replace(\"</body>\", legend_html + \"</body>\")\n",
    "\n",
    "        with open(output_file, \"w\") as file:\n",
    "            file.write(content)\n",
    "\n",
    "        print(f\"Network visualization saved with legend at {output_file}.\")\n",
    "\n",
    "\n",
    "\n",
    "\n",
    "\n",
    "\n"
   ]
  },
  {
   "cell_type": "code",
   "execution_count": 4,
   "metadata": {
    "colab": {
     "base_uri": "https://localhost:8080/"
    },
    "id": "vXZtUIfrRbEI",
    "outputId": "95b78d9c-5dca-4dea-c15e-6fb2fdaa5d0c"
   },
   "outputs": [
    {
     "name": "stdout",
     "output_type": "stream",
     "text": [
      "Please enter an actor: Hamas\n"
     ]
    },
    {
     "ename": "NameError",
     "evalue": "name 'load_data' is not defined",
     "output_type": "error",
     "traceback": [
      "\u001b[0;31m---------------------------------------------------------------------------\u001b[0m",
      "\u001b[0;31mNameError\u001b[0m                                 Traceback (most recent call last)",
      "Cell \u001b[0;32mIn[4], line 2\u001b[0m\n\u001b[1;32m      1\u001b[0m Input_actor \u001b[38;5;241m=\u001b[39m \u001b[38;5;28minput\u001b[39m(\u001b[38;5;124m\"\u001b[39m\u001b[38;5;124mPlease enter an actor: \u001b[39m\u001b[38;5;124m\"\u001b[39m)\n\u001b[0;32m----> 2\u001b[0m df_expanded \u001b[38;5;241m=\u001b[39m \u001b[43mload_data\u001b[49m()\n\u001b[1;32m      3\u001b[0m df_filtered \u001b[38;5;241m=\u001b[39m df_expanded[df_expanded[\u001b[38;5;124m'\u001b[39m\u001b[38;5;124mNameData\u001b[39m\u001b[38;5;124m'\u001b[39m]\u001b[38;5;241m==\u001b[39mInput_actor]\n\u001b[1;32m      4\u001b[0m network_visualization(df_filtered)\n",
      "\u001b[0;31mNameError\u001b[0m: name 'load_data' is not defined"
     ]
    }
   ],
   "source": [
    "Input_actor = input(\"Please enter an actor: \")\n",
    "df_expanded = load_data()\n",
    "df_filtered = df_expanded[df_expanded['NameData']==Input_actor]\n",
    "network_visualization(df_filtered)\n",
    "\n",
    "#Government of Israel"
   ]
  },
  {
   "cell_type": "code",
   "execution_count": 22,
   "metadata": {
    "colab": {
     "base_uri": "https://localhost:8080/"
    },
    "id": "MRU11_zGRbJC",
    "outputId": "e85dd079-bc39-4cd0-e78f-6d23c9549f51"
   },
   "outputs": [
    {
     "name": "stdout",
     "output_type": "stream",
     "text": [
      "Please enter a ConflictName: Yemen (North Yemen)\n"
     ]
    },
    {
     "name": "stderr",
     "output_type": "stream",
     "text": [
      "<ipython-input-18-7b47a58ad64d>:34: FutureWarning: Setting an item of incompatible dtype is deprecated and will raise an error in a future version of pandas. Value 'Hyderabad' has dtype incompatible with float64, please explicitly cast to a compatible dtype first.\n",
      "  df_expanded.at[index, 'ConflictName'] = conflict_name\n"
     ]
    },
    {
     "name": "stdout",
     "output_type": "stream",
     "text": [
      "Network visualization saved with legend at actor_conflict_network.html.\n"
     ]
    }
   ],
   "source": [
    "Input_actor = input(\"Please enter a ConflictName: \")\n",
    "df_expanded = load_data()\n",
    "df_filtered= df_expanded[df_expanded['ConflictName']==Input_actor]\n",
    "network_visualization(df_filtered)\n",
    "\n",
    "#Yemen (North Yemen)"
   ]
  },
  {
   "cell_type": "code",
   "execution_count": 23,
   "metadata": {
    "colab": {
     "base_uri": "https://localhost:8080/"
    },
    "id": "SdcmA5bbRbjZ",
    "outputId": "cacc87f3-5e2f-4506-d411-9b155433a271"
   },
   "outputs": [
    {
     "name": "stdout",
     "output_type": "stream",
     "text": [
      "Please enter a ConflictId: 229\n"
     ]
    },
    {
     "name": "stderr",
     "output_type": "stream",
     "text": [
      "<ipython-input-18-7b47a58ad64d>:34: FutureWarning: Setting an item of incompatible dtype is deprecated and will raise an error in a future version of pandas. Value 'Hyderabad' has dtype incompatible with float64, please explicitly cast to a compatible dtype first.\n",
      "  df_expanded.at[index, 'ConflictName'] = conflict_name\n"
     ]
    },
    {
     "name": "stdout",
     "output_type": "stream",
     "text": [
      "Network visualization saved with legend at actor_conflict_network.html.\n"
     ]
    }
   ],
   "source": [
    "Input_actor = int(input(\"Please enter a ConflictId: \"))\n",
    "df_expanded = load_data()\n",
    "df_filtered = df_expanded[df_expanded['ConflictId']==Input_actor]\n",
    "network_visualization(df_filtered)\n",
    "\n",
    "#229"
   ]
  },
  {
   "cell_type": "code",
   "execution_count": null,
   "metadata": {
    "id": "MNYFVKRjUM1z"
   },
   "outputs": [],
   "source": []
  },
  {
   "cell_type": "code",
   "execution_count": null,
   "metadata": {
    "id": "eD-pcK3IUNOJ"
   },
   "outputs": [],
   "source": []
  }
 ],
 "metadata": {
  "colab": {
   "provenance": []
  },
  "kernelspec": {
   "display_name": "Python 3 (ipykernel)",
   "language": "python",
   "name": "python3"
  },
  "language_info": {
   "codemirror_mode": {
    "name": "ipython",
    "version": 3
   },
   "file_extension": ".py",
   "mimetype": "text/x-python",
   "name": "python",
   "nbconvert_exporter": "python",
   "pygments_lexer": "ipython3",
   "version": "3.10.2"
  }
 },
 "nbformat": 4,
 "nbformat_minor": 1
}
